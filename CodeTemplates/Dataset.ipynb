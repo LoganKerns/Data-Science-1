{
 "cells": [
  {
   "cell_type": "code",
   "execution_count": 1,
   "id": "0c87479b",
   "metadata": {},
   "outputs": [],
   "source": [
    "import pandas as pd"
   ]
  },
  {
   "cell_type": "code",
   "execution_count": 2,
   "id": "623b662c",
   "metadata": {},
   "outputs": [],
   "source": [
    "df = pd.read_csv(\"worldcities.csv\")"
   ]
  },
  {
   "cell_type": "code",
   "execution_count": 3,
   "id": "1550d360",
   "metadata": {},
   "outputs": [
    {
     "name": "stdout",
     "output_type": "stream",
     "text": [
      "        city city_ascii      lat       lng    country iso2 iso3   admin_name  \\\n",
      "0      Tokyo      Tokyo  35.6897  139.6922      Japan   JP  JPN        Tōkyō   \n",
      "1    Jakarta    Jakarta  -6.1750  106.8275  Indonesia   ID  IDN      Jakarta   \n",
      "2      Delhi      Delhi  28.6100   77.2300      India   IN  IND        Delhi   \n",
      "3  Guangzhou  Guangzhou  23.1300  113.2600      China   CN  CHN    Guangdong   \n",
      "4     Mumbai     Mumbai  19.0761   72.8775      India   IN  IND  Mahārāshtra   \n",
      "\n",
      "   capital  population          id  \n",
      "0  primary  37732000.0  1392685764  \n",
      "1  primary  33756000.0  1360771077  \n",
      "2    admin  32226000.0  1356872604  \n",
      "3    admin  26940000.0  1156237133  \n",
      "4    admin  24973000.0  1356226629  \n"
     ]
    }
   ],
   "source": [
    "df_head = df.head(5)\n",
    "print(df_head)"
   ]
  },
  {
   "cell_type": "code",
   "execution_count": null,
   "id": "419b6dc0",
   "metadata": {},
   "outputs": [],
   "source": []
  },
  {
   "cell_type": "code",
   "execution_count": null,
   "id": "552cfebe",
   "metadata": {},
   "outputs": [],
   "source": []
  }
 ],
 "metadata": {
  "kernelspec": {
   "display_name": "Python 3 (ipykernel)",
   "language": "python",
   "name": "python3"
  },
  "language_info": {
   "codemirror_mode": {
    "name": "ipython",
    "version": 3
   },
   "file_extension": ".py",
   "mimetype": "text/x-python",
   "name": "python",
   "nbconvert_exporter": "python",
   "pygments_lexer": "ipython3",
   "version": "3.11.4"
  }
 },
 "nbformat": 4,
 "nbformat_minor": 5
}
